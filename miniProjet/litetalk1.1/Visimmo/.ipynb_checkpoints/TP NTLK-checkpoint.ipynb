{
 "cells": [
  {
   "cell_type": "markdown",
   "metadata": {},
   "source": [
    "# EVIJV - Partie traitement du langage naturel\n",
    "## TP NLTK\n",
    "\n",
    "08/12/2017\n",
    "\n",
    "Tanguy SOTO & Nicolas BILLOD"
   ]
  },
  {
   "cell_type": "code",
   "execution_count": 3,
   "metadata": {},
   "outputs": [
    {
     "name": "stdout",
     "output_type": "stream",
     "text": [
      "*** Introductory Examples for the NLTK Book ***\n",
      "Loading text1, ..., text9 and sent1, ..., sent9\n",
      "Type the name of the text or sentence to view it.\n",
      "Type: 'texts()' or 'sents()' to list the materials.\n",
      "text1: Moby Dick by Herman Melville 1851\n",
      "text2: Sense and Sensibility by Jane Austen 1811\n",
      "text3: The Book of Genesis\n",
      "text4: Inaugural Address Corpus\n",
      "text5: Chat Corpus\n",
      "text6: Monty Python and the Holy Grail\n",
      "text7: Wall Street Journal\n",
      "text8: Personals Corpus\n",
      "text9: The Man Who Was Thursday by G . K . Chesterton 1908\n"
     ]
    }
   ],
   "source": [
    "# necessary imports\n",
    "import nltk\n",
    "import re\n",
    "from nltk.corpus import udhr\n",
    "from nltk.corpus import brown\n",
    "from nltk.book import *"
   ]
  },
  {
   "cell_type": "code",
   "execution_count": 9,
   "metadata": {
    "collapsed": true
   },
   "outputs": [],
   "source": [
    "from nltk.corpus import PlaintextCorpusReader"
   ]
  },
  {
   "cell_type": "code",
   "execution_count": 20,
   "metadata": {},
   "outputs": [
    {
     "data": {
      "text/plain": [
       "[]"
      ]
     },
     "execution_count": 20,
     "metadata": {},
     "output_type": "execute_result"
    }
   ],
   "source": [
    "root = '.'\n",
    "monCorpus = PlaintextCorpusReader(root, '.txt')\n",
    "monCorpus.fileids()"
   ]
  },
  {
   "cell_type": "code",
   "execution_count": 30,
   "metadata": {},
   "outputs": [
    {
     "name": "stdout",
     "output_type": "stream",
     "text": [
      "<Text: What do you think about the exteriors of...>\n",
      "it are\n"
     ]
    }
   ],
   "source": [
    "f=open('/Users/nicolasbillod/Documents/M2-Cours/EVIJV/monCorpus.txt','r')\n",
    "raw=f.read()\n",
    "tokens = nltk.word_tokenize(raw)\n",
    "text = nltk.Text(tokens)\n",
    "print(text)\n",
    "len(text)\n",
    "text.similar(\"is\")"
   ]
  },
  {
   "cell_type": "code",
   "execution_count": 37,
   "metadata": {},
   "outputs": [
    {
     "data": {
      "image/png": "[encoded data removed]",
      "text/plain": [
       "<matplotlib.figure.Figure at 0x1a111666a0>"
      ]
     },
     "metadata": {},
     "output_type": "display_data"
    }
   ],
   "source": [
    "fdist1 = FreqDist(text)\n",
    "fdist1.plot(50, cumulative=False)"
   ]
  },
  {
   "cell_type": "code",
   "execution_count": 40,
   "metadata": {
    "collapsed": true
   },
   "outputs": [],
   "source": [
    "def div_lex(text):\n",
    "    return 1.0*len(text) / len(set(text))"
   ]
  },
  {
   "cell_type": "code",
   "execution_count": 42,
   "metadata": {},
   "outputs": [
    {
     "data": {
      "text/plain": [
       "2.857142857142857"
      ]
     },
     "execution_count": 42,
     "metadata": {},
     "output_type": "execute_result"
    }
   ],
   "source": [
    "div_lex(text)"
   ]
  },
  {
   "cell_type": "code",
   "execution_count": null,
   "metadata": {
    "collapsed": true
   },
   "outputs": [],
   "source": []
  },
  {
   "cell_type": "markdown",
   "metadata": {},
   "source": [
    "# Exercice 1"
   ]
  },
  {
   "cell_type": "code",
   "execution_count": 5,
   "metadata": {},
   "outputs": [
    {
     "name": "stdout",
     "output_type": "stream",
     "text": [
      "['Cute', 'cums', 'goin', 'Yeah', \"it's\", 'boss', 'five', 'lost', 'jush', 'U172']\n",
      "[(1021, 'JOIN'), (1016, 'PART'), (274, 'that'), (183, 'what'), (181, 'here'), (170, '....'), (164, 'have'), (156, 'like'), (152, 'with'), (142, 'chat')]\n"
     ]
    }
   ],
   "source": [
    "# (a)\n",
    "setText5 = set(text5)\n",
    "#setText5 = \"Je suis un texte\"\n",
    "#text = \"Je suis un texte\"\n",
    "four_letters_words = [w for w in setText5 if len(w) == 4]\n",
    "\n",
    "print(four_letters_words[:10])\n",
    "\n",
    "# (b)\n",
    "set_four_letters_words = set(four_letters_words)\n",
    "dict_FreqText5 = FreqDist(text5)\n",
    "\n",
    "four_letters_words_sorted = [(dict_FreqText5[k],k) for k in dict_FreqText5.keys() if k in set_four_letters_words]\n",
    "four_letters_words_sorted = sorted(four_letters_words_sorted)\n",
    "four_letters_words_sorted.reverse()\n",
    "\n",
    "print(four_letters_words_sorted[:10])"
   ]
  },
  {
   "cell_type": "markdown",
   "metadata": {},
   "source": [
    "# Exercice 2"
   ]
  },
  {
   "cell_type": "code",
   "execution_count": 6,
   "metadata": {},
   "outputs": [
    {
     "name": "stdout",
     "output_type": "stream",
     "text": [
      "['That', 'What', 'hat', 'that', 'what']\n",
      "['Fetchez', 'amazes', 'frozen', 'zhiv', 'zone', 'zoo', 'zoop', 'zoosh']\n",
      "['Chapter', 'Thpppppt', 'Thppppt', 'Thpppt', 'Thppt', 'aptly', 'empty', 'excepting', 'ptoo', 'temptation', 'temptress']\n"
     ]
    }
   ],
   "source": [
    "# (a)\n",
    "setText6 = set(text6)\n",
    "hat_finished_words = [w for w in setText6 if len(w)>=3 and w[-3:]==\"hat\"]\n",
    "hat_finished_words = sorted(hat_finished_words)\n",
    "print(hat_finished_words)\n",
    "\n",
    "# (b)\n",
    "containing_z = [w for w in setText6 if len(w)>=3 and 'z' in w]\n",
    "containing_z = sorted(containing_z)\n",
    "print(containing_z)\n",
    "\n",
    "# (c)\n",
    "containing_pt = [w for w in setText6 if len(w)>=3 and 'pt' in w]\n",
    "containing_pt = sorted(containing_pt)\n",
    "print(containing_pt)"
   ]
  },
  {
   "cell_type": "markdown",
   "metadata": {},
   "source": [
    "# Exercice 3"
   ]
  },
  {
   "cell_type": "code",
   "execution_count": 7,
   "metadata": {},
   "outputs": [
    {
     "name": "stdout",
     "output_type": "stream",
     "text": [
      "{'s': 0.0448094412891964, 'y': 0.027549742590788923, 'L': 0.002441276547301314, 'T': 0.009878948100737443, 'f': 0.01122607738720164, 'X': 9.48682596101547e-05, '_': 0.0001897365192203094, 'C': 0.0030863807126503663, ' ': 0.0004680167474100965, '/': 0.0011763664191659182, '9': 0.003839002238890927, 'v': 0.006425743450927812, '|': 1.897365192203094e-05, 'h': 0.04776933098903323, 'K': 0.00039212213972197277, '8': 0.0031116789152130743, '?': 0.0069759793566667085, 'Z': 0.00010751736089150866, 'D': 0.0010435508557117017, 'l': 0.04068583427147501, 'x': 0.001207989172369303, '5': 0.005666797374046574, '@': 0.0005375868044575433, 'I': 0.013445994662079259, '3': 0.0074123733508734205, '7': 0.003231845377385937, '-': 0.002479223851145376, 'i': 0.05127313204396828, 'g': 0.017765662749661636, '^': 0.00013281556345421657, 'u': 0.024551905587108035, '\\\\': 4.427185448473886e-05, 'M': 0.0017076286729827846, '`': 6.32455064067698e-06, '.': 0.03460794110578443, '=': 0.00027195567754911013, 'Q': 8.221915832880073e-05, '\"': 0.0005945077602236361, '#': 0.0005249377031761893, 'b': 0.011719392337174443, '2': 0.006760944634883691, ':': 0.002232566376158974, '6': 0.0038643004414536347, 'e': 0.08243419305058376, 'o': 0.07094248453647369, 'J': 0.006628129071429475, ';': 0.0004680167474100965, '[': 0.00012016646217286262, '<': 0.0008095424820066535, '&': 0.00010751736089150866, 'B': 0.00037314848779994184, \"'\": 0.004319668087582378, 'r': 0.034519397396814956, 'p': 0.012908407857621715, 'W': 0.00094235804546087, '4': 0.005337920740731371, '%': 0.00010119281025083168, 'O': 0.011086937273106745, 'G': 0.00042374489292535766, 'c': 0.016734760995231288, '~': 0.00013914011409489355, 'a': 0.06033621311205839, '>': 0.00045536764612874256, 'H': 0.001897365192203094, 'S': 0.0010751736089150866, 'P': 0.007450320654717482, '*': 0.0007779197288032686, 'm': 0.02519068520181641, 'N': 0.009847325347534058, '+': 0.00021503472178301732, 'k': 0.012427742008930265, 'z': 0.0013155065332608117, '0': 0.003440555548528277, '!': 0.007241610483575142, '1': 0.010530376816727171, 'n': 0.04730763879226381, 'Y': 0.0011637173178845643, 'E': 0.001233287374932011, '(': 0.004566325562568779, '$': 3.794730384406188e-05, ',': 0.004363939942067116, 'A': 0.010024412765473013, ']': 0.00016443831665760147, 'd': 0.02270513680003036, 'q': 0.00029725388011181804, 'w': 0.02073187700013914, 'j': 0.0016570322678573688, ')': 0.0059324285009550075, 't': 0.05785066471027234, 'F': 0.0004933149499728044, 'R': 0.007020251211151448, 'V': 0.0001581137660169245, 'U': 0.022281391907105}\n",
      "{'k': 0.007775108302907625, 'J': 0.0002837630767484535, ';': 7.56701537995876e-05, 'z': 0.0001702578460490721, '0': 3.78350768997938e-05, 'L': 0.010026295378445356, 's': 0.03940523259113524, 'y': 0.017347382758555456, 'Z': 0.0004540209227975256, '[': 0.006053612303967008, '!': 0.015701556913414426, 'T': 0.01685552675885814, 'f': 0.009950625224645768, '5': 3.78350768997938e-05, 'I': 0.014017895991373602, 'B': 0.006129282457766595, '3': 0.0002648455382985566, 'C': 0.007888613533607007, \"'\": 0.008607479994703088, 'r': 0.03726755074629689, 'p': 0.009988460301545562, 'W': 0.005296910765971132, 'V': 0.0021944344601880403, '1': 0.0016647433835909272, 'E': 0.01817975445035092, 'n': 0.04402111197291009, 'Y': 0.0027430430752350505, '7': 3.78350768997938e-05, '(': 5.67526153496907e-05, '4': 7.56701537995876e-05, '-': 0.007377839995459791, 'i': 0.04216719320482019, ',': 0.014112483683623087, 'g': 0.018085166758101436, 'A': 0.023022644293524526, ']': 0.006053612303967008, '9': 3.78350768997938e-05, 'd': 0.022606458447626796, 'u': 0.029246514443540605, 'q': 0.001721495998940618, 'U': 0.008437222148654017, 'w': 0.014225988914322469, 'v': 0.005902271996367833, 'j': 0.0009269593840449481, 'O': 0.010877584608690717, 'M': 0.003140311382682885, 'G': 0.00896691322525113, '.': 0.023098314447324114, 'Q': 0.0002459279998486597, 'c': 0.016344753220710922, ')': 5.67526153496907e-05, 't': 0.05641209965759256, '#': 0.002402527383136906, 'a': 0.054085242428255235, 'b': 0.010120883070694841, 'K': 0.004161858458977318, 'h': 0.0457615255103006, 'H': 0.015758309528764117, 'S': 0.008134541533455667, 'P': 0.0017593310758404117, 'F': 0.0033105692287319576, '2': 0.0009269593840449481, '8': 3.78350768997938e-05, ':': 0.022644293524526588, 'm': 0.017612228296854014, 'N': 0.012617998146081232, '6': 3.78350768997938e-05, 'R': 0.023590170447021434, 'e': 0.07814835133652409, '?': 0.004218611074327009, 'o': 0.058039007964283684, 'D': 0.008758820302302264, 'l': 0.03163012428822762, 'x': 0.000567526153496907}\n"
     ]
    }
   ],
   "source": [
    "# (a)\n",
    "\n",
    "def freqByLetters(iterable):\n",
    "    textbyletters = []\n",
    "    letters = set()\n",
    "    freqLetters = dict()\n",
    "\n",
    "    for w in iterable:\n",
    "        for l in w:\n",
    "            textbyletters.append(l)\n",
    "    letters = set(textbyletters)\n",
    "\n",
    "    freqDist = FreqDist(textbyletters)\n",
    "\n",
    "    for l in letters:\n",
    "        freqLetters[l]=freqDist.freq(l)\n",
    "\n",
    "    return freqLetters\n",
    "\n",
    "print(freqByLetters(text5))\n",
    "print(freqByLetters(text6))"
   ]
  },
  {
   "cell_type": "code",
   "execution_count": 101,
   "metadata": {},
   "outputs": [
    {
     "name": "stdout",
     "output_type": "stream",
     "text": [
      "{'t': 0.08305166586190246, 'c': 0.03271366489618542, 'U': 0.00036214389183969096, 'e': 0.13544181554804444, 's': 0.07339449541284404, 'x': 0.00374215354901014, '.': 0.005794302269435055, 'r': 0.061564461612747465, 'n': 0.07568807339449542, 'v': 0.008812168034765814, 'ù': 0.0004828585224529213, 'D': 0.0009657170449058426, 'é': 0.02571221632061806, 'u': 0.04852728150651859, 'd': 0.043095123128923225, ',': 0.012433606953162724, '6': 0.00036214389183969096, 'E': 0.0004828585224529213, '9': 0.00024142926122646064, 'p': 0.023539352969579912, 'â': 0.00024142926122646064, 'I': 0.00024142926122646064, 'j': 0.0009657170449058426, 'f': 0.008087880251086432, 'è': 0.0009657170449058426, 'o': 0.06325446644133269, 'b': 0.00748430709802028, '8': 0.00024142926122646064, 'Q': 0.00012071463061323032, 'h': 0.004828585224529213, \"'\": 0.009415741187831965, 'g': 0.008812168034765814, 'a': 0.06832448092708836, '-': 0.00036214389183969096, 'l': 0.05408015451472718, '2': 0.0012071463061323032, '3': 0.00036214389183969096, '4': 0.00036214389183969096, 'ô': 0.00024142926122646064, 'i': 0.07894736842105263, 'm': 0.02233220666344761, 'à': 0.006639304683727668, 'y': 0.0021728633510381457, '5': 0.00036214389183969096, '7': 0.00024142926122646064, 'P': 0.00024142926122646064, 'ê': 0.0022935779816513763, ';': 0.0007242877836793819, 'û': 0.00012071463061323032, 'M': 0.00024142926122646064, '1': 0.0014485755673587638, 'O': 0.00012071463061323032, '0': 0.00024142926122646064, 'T': 0.003017865765330758, 'L': 0.0009657170449058426, 'N': 0.0013278609367455335, 'C': 0.0013278609367455335, 'q': 0.007846450989859971, 'A': 0.003380009657170449}\n"
     ]
    }
   ],
   "source": [
    "# (b)\n",
    "\n",
    "print(freqByLetters(udhr.words('French_Francais-Latin1')))"
   ]
  },
  {
   "cell_type": "markdown",
   "metadata": {},
   "source": [
    "# ÉTIQUETAGE MORPHO-SYNTAXIQUE\n",
    "# Exercice 1"
   ]
  },
  {
   "cell_type": "code",
   "execution_count": 104,
   "metadata": {
    "collapsed": true
   },
   "outputs": [],
   "source": [
    "news = brown.words(categories='news')\n",
    "\n"
   ]
  },
  {
   "cell_type": "code",
   "execution_count": null,
   "metadata": {
    "collapsed": true
   },
   "outputs": [],
   "source": []
  }
 ],
 "metadata": {
  "kernelspec": {
   "display_name": "Python 3",
   "language": "python",
   "name": "python3"
  },
  "language_info": {
   "codemirror_mode": {
    "name": "ipython",
    "version": 3
   },
   "file_extension": ".py",
   "mimetype": "text/x-python",
   "name": "python",
   "nbconvert_exporter": "python",
   "pygments_lexer": "ipython3",
   "version": "3.6.2"
  }
 },
 "nbformat": 4,
 "nbformat_minor": 2
}
